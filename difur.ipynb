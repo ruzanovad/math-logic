{
 "cells": [
  {
   "attachments": {},
   "cell_type": "markdown",
   "metadata": {},
   "source": [
    "## Устойчивость по Ляпунову"
   ]
  },
  {
   "attachments": {},
   "cell_type": "markdown",
   "metadata": {},
   "source": [
    "*Определение*. Решение системы $X = \\Phi(t)$ называется устойчивым по Ляпунову, если для любого $\\epsilon$ существует $\\delta = \\delta(\\epsilon)>0$ такое, что из совокупности неравенств $|x_i(t_0)-\\phi_i(t_0)|<\\delta$ следует $|x_i(t) - \\phi_i(t)|<\\epsilon \\forall t\\geq t_0, i = 1, 2, \\dots, n$."
   ]
  },
  {
   "attachments": {},
   "cell_type": "markdown",
   "metadata": {},
   "source": [
    "Из определения следует, что если $X = \\Phi(t)$ – устойчивое решение, т*о всякое решение, достаточно близкое к нему в начальный момент $t_0$, остается близким к нему с ростом t.*"
   ]
  },
  {
   "attachments": {},
   "cell_type": "markdown",
   "metadata": {},
   "source": [
    "*Определение*. Решение системы $X = \\Phi(t)$ называется асимптотически устойчивым, если для любого $\\epsilon$ существует $\\delta = \\delta(\\epsilon)>0$ такое, что из совокупности неравенств $|x_i(t_0)-\\phi_i(t_0)|<\\delta$ следует $\\lim_{t\\to\\infty} |x_i(t) - \\phi_i(t)|=0, i = 1, 2, \\dots, n$."
   ]
  },
  {
   "attachments": {},
   "cell_type": "markdown",
   "metadata": {},
   "source": [
    "Рассмотрим следующую систему ДУ:\n",
    "$$\\frac{dx_i}{dt} = f_i(x_1, \\dots, x_n)$$\n",
    "Вспомним разложение в ряд Тейлора\n",
    "$$f = f(t_0) + \\frac{f'(t_0)}{1!}(t-t_0) + \\frac{f''(t_0)}{2!}(t-t_0)^2 + O(t-t_0)^2$$"
   ]
  },
  {
   "attachments": {},
   "cell_type": "markdown",
   "metadata": {},
   "source": [
    "$$\\frac{dx_i}{dt} = \\sum_{j = 1}^n \\frac{f_i(t_0)}{\\partial x_j}(x_j-x_{j0}) + F_i(x_1, ..., x_n)$$"
   ]
  },
  {
   "attachments": {},
   "cell_type": "markdown",
   "metadata": {},
   "source": [
    "Рассматривается \"нулевое решение\" такое, что $$\\overline{(X(t_0))} = \\overline{0}$$ ($X_i$ каждое равно 0)\n",
    "Тогда $$\\frac{dx_i}{dt} = \\sum_{j = 1}^n\\frac{\\partial f_i(0, \\dots, 0)}{\\partial x_j}x_j + F_i$$"
   ]
  },
  {
   "attachments": {},
   "cell_type": "markdown",
   "metadata": {},
   "source": [
    "$$\\frac{d\\overline{x}}{dt} = \\overline{f}(\\overline{x})$$\n",
    "$$\\frac{d\\overline{x}}{dt} = A \\overline(X) + \\overline{F}(\\overline{x})$$"
   ]
  },
  {
   "attachments": {},
   "cell_type": "markdown",
   "metadata": {},
   "source": [
    "*Определение.* Решение нормальной системы $X = \\Phi(t)$\n",
    "называется асимптотически устойчивым в целом, если $\\lim_{t\\to\\infty} |x_i(t) - \\phi_i(t)|=0$,где $x_i(t)$ - решение, определяемое любыми начальными условиями, а не только значениями, близкими к начальным значениям $\\phi_i(t_0), i = 1, 2, \\dots, n$."
   ]
  },
  {
   "attachments": {},
   "cell_type": "markdown",
   "metadata": {},
   "source": [
    "**Признак**: решение будет устойчиво, если все с.ч. числа матрицы А имеют отрицательную действительную часть"
   ]
  },
  {
   "attachments": {},
   "cell_type": "markdown",
   "metadata": {},
   "source": [
    "Оказывается, что исследование на устойчивость любого частного решения нормальной системы можно заменить исследованием устойчивости тривиального решения некоторой другой системы. Покажем это:"
   ]
  },
  {
   "attachments": {},
   "cell_type": "markdown",
   "metadata": {},
   "source": [
    "Сделаем замену $Y(t) = X(t) - \\Phi(t)$. Если рассматриваемое решение $\\Phi(t)$ устойчиво, то любое решение $X(t)$, близкое к нему в начальный момент $t_0$, остается близким к нему и при $t> t_0$. Отсюда следует, что если при $t = t_0 Y(t)$ близко к $(0,0)$, то $Y(t)$ не удаляется от $(0,0)$ и с ростом t."
   ]
  },
  {
   "attachments": {},
   "cell_type": "markdown",
   "metadata": {},
   "source": [
    "$$\\frac{dY}{dt} = F - \\frac{d\\Phi}{dt}$$\n",
    "Система имеет тривиальное решение Y = 0. Если оно устойчиво, то устойчиво любое частное решение системы."
   ]
  },
  {
   "attachments": {},
   "cell_type": "markdown",
   "metadata": {},
   "source": [
    "Рассмотрим\n",
    "$$\\frac{d{x}}{dt} = A X + {F}$$\n",
    "и соответствующую однородную систему \n",
    "$$\\frac{d{x}}{dt} = A X$$\n",
    "Исследуем частное решение неоднородной системы $X = \\Phi(t)$. $$Y(t) = X(t) - \\Phi(t)\\implies y(t) = x_i(t) - \\phi_i(t), i=1\\dots n$$ \n",
    "отклонение точек на траектории $X = X(t)$ от соответствующих точек исследуемой траектории $X = X(t)$. Такое отклонение наз-ся *возмущением*. Таким образом,\n",
    "$$X = Y + \\Phi \\implies \\text{дифференцируем по t} \\implies \\frac{dX}{dt} = AY + A\\Phi + F\\implies \\frac{dY}{dt} = AY$$"
   ]
  },
  {
   "attachments": {},
   "cell_type": "markdown",
   "metadata": {},
   "source": [
    "Таким образом, если решение $X = \\Phi(t)$ неоднородной системы $\\frac{d{x}}{dt} = A X + {F}$ устойчиво, то устойчиво и тривиальное решение соответствующей однородной системы $\\frac{d{x}}{dt} = A X$ и наоборот: из устойчивости нулевого решения однородной системы следует устойчивость решения \n",
    "$X = \\Phi(t)$ неоднородной системы "
   ]
  }
 ],
 "metadata": {
  "language_info": {
   "name": "python"
  },
  "orig_nbformat": 4
 },
 "nbformat": 4,
 "nbformat_minor": 2
}
